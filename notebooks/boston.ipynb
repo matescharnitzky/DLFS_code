{
 "cells": [
  {
   "cell_type": "markdown",
   "id": "funky-corps",
   "metadata": {},
   "source": [
    "## Packages"
   ]
  },
  {
   "cell_type": "code",
   "execution_count": 1,
   "id": "sharing-image",
   "metadata": {},
   "outputs": [],
   "source": [
    "import numpy as np\n",
    "\n",
    "from sklearn.datasets import load_boston\n",
    "from sklearn.model_selection import train_test_split\n",
    "\n",
    "from joelnet.utils import assert_same_shape, to_2d_np, mae, rmse, eval_regression_model, permute_data\n",
    "from joelnet.data import BatchIterator\n",
    "from joelnet.layers import Linear, Sigmoid, sigmoid\n",
    "from joelnet.nn import NeuralNet\n",
    "from joelnet.loss import MSE\n",
    "from joelnet.optim import SGD\n",
    "from joelnet.train import Trainer"
   ]
  },
  {
   "cell_type": "markdown",
   "id": "smooth-jordan",
   "metadata": {},
   "source": [
    "## Data Preparation"
   ]
  },
  {
   "cell_type": "code",
   "execution_count": 2,
   "id": "behavioral-upper",
   "metadata": {},
   "outputs": [
    {
     "name": "stdout",
     "output_type": "stream",
     "text": [
      "Data: (506, 13) \n",
      "Target: (506,) \n",
      "Features: (13,)\n"
     ]
    }
   ],
   "source": [
    "# Read\n",
    "boston = load_boston()\n",
    "data = boston.data\n",
    "target = boston.target\n",
    "features = boston.feature_names\n",
    "\n",
    "print(\"Data:\", data.shape, \"\\n\"\n",
    "      \"Target:\", target.shape, \"\\n\"\n",
    "      \"Features:\", features.shape)"
   ]
  },
  {
   "cell_type": "code",
   "execution_count": 3,
   "id": "consecutive-thomas",
   "metadata": {},
   "outputs": [],
   "source": [
    "# Scale\n",
    "from sklearn.preprocessing import StandardScaler\n",
    "s = StandardScaler()\n",
    "data = s.fit_transform(data)"
   ]
  },
  {
   "cell_type": "code",
   "execution_count": 4,
   "id": "dense-virginia",
   "metadata": {},
   "outputs": [
    {
     "name": "stdout",
     "output_type": "stream",
     "text": [
      "X_train: (354, 13) \n",
      "y_train: (354, 1) \n",
      "X_test: (152, 13) \n",
      "y_test: (152, 1)\n"
     ]
    }
   ],
   "source": [
    "# Split\n",
    "X_train, X_test, y_train, y_test = train_test_split(data, \n",
    "                                                    target, \n",
    "                                                    test_size=0.3, \n",
    "                                                    random_state=80718)\n",
    "\n",
    "y_train, y_test = to_2d_np(y_train), to_2d_np(y_test)\n",
    "\n",
    "print(\"X_train:\", X_train.shape, \"\\n\"\n",
    "      \"y_train:\", y_train.shape, \"\\n\"\n",
    "      \"X_test:\", X_test.shape, \"\\n\"\n",
    "      \"y_test:\", y_test.shape)"
   ]
  },
  {
   "cell_type": "markdown",
   "id": "broken-provision",
   "metadata": {},
   "source": [
    "## Train: Linear Regression"
   ]
  },
  {
   "cell_type": "code",
   "execution_count": 5,
   "id": "separated-bacteria",
   "metadata": {},
   "outputs": [],
   "source": [
    "# initialize\n",
    "lr = Trainer(iterator=BatchIterator(shuffle=False),\n",
    "             net=NeuralNet([\n",
    "                 Linear(input_size=13, output_size=1, seed=20190501)\n",
    "             ]),\n",
    "             loss=MSE(),\n",
    "             optimizer=SGD(learning_rate=0.01))"
   ]
  },
  {
   "cell_type": "code",
   "execution_count": 6,
   "id": "center-listing",
   "metadata": {},
   "outputs": [
    {
     "name": "stdout",
     "output_type": "stream",
     "text": [
      "Epoch: 10 |  Train loss: 332.434 | Validation loss: 30.987\n",
      "Epoch: 20 |  Train loss: 249.386 | Validation loss: 26.315\n",
      "Epoch: 30 |  Train loss: 242.709 | Validation loss: 26.002\n",
      "Epoch: 40 |  Train loss: 239.980 | Validation loss: 25.829\n",
      "Epoch: 50 |  Train loss: 238.605 | Validation loss: 25.722\n"
     ]
    }
   ],
   "source": [
    "lr.fit(X_train=X_train, y_train=y_train,\n",
    "       X_test=X_test, y_test=y_test,\n",
    "       epochs=50,\n",
    "       eval_every=10,\n",
    "       seed=20190501)"
   ]
  },
  {
   "cell_type": "markdown",
   "id": "coordinated-miniature",
   "metadata": {},
   "source": [
    "## Train: Neural Network"
   ]
  },
  {
   "cell_type": "code",
   "execution_count": 7,
   "id": "opponent-lodging",
   "metadata": {},
   "outputs": [],
   "source": [
    "# initialize\n",
    "nn = Trainer(iterator=BatchIterator(shuffle=False),\n",
    "             net=NeuralNet([\n",
    "                 Linear(input_size=13, output_size=13, seed=20190501),\n",
    "                 Sigmoid(),\n",
    "                 Linear(input_size=13, output_size=1, seed=20190501)\n",
    "             ]),\n",
    "             loss=MSE(),\n",
    "             optimizer=SGD(learning_rate=0.01))"
   ]
  },
  {
   "cell_type": "code",
   "execution_count": 8,
   "id": "anonymous-immune",
   "metadata": {},
   "outputs": [
    {
     "name": "stdout",
     "output_type": "stream",
     "text": [
      "Epoch: 10 |  Train loss: 252.057 | Validation loss: 27.616\n",
      "Epoch: 20 |  Train loss: 187.327 | Validation loss: 21.258\n",
      "Epoch: 30 |  Train loss: 157.553 | Validation loss: 18.767\n",
      "Epoch: 40 |  Train loss: 141.563 | Validation loss: 17.399\n",
      "Epoch: 50 |  Train loss: 130.301 | Validation loss: 16.556\n"
     ]
    }
   ],
   "source": [
    "nn.fit(X_train=X_train, y_train=y_train,\n",
    "       X_test=X_test, y_test=y_test,\n",
    "       epochs=50,\n",
    "       eval_every=10,\n",
    "       seed=20190501)"
   ]
  },
  {
   "cell_type": "markdown",
   "id": "distinct-crystal",
   "metadata": {},
   "source": [
    "## Train: Deep Learning"
   ]
  },
  {
   "cell_type": "code",
   "execution_count": 9,
   "id": "initial-packaging",
   "metadata": {},
   "outputs": [],
   "source": [
    "# initialize\n",
    "dl = Trainer(iterator=BatchIterator(shuffle=False),\n",
    "             net=NeuralNet([\n",
    "                 Linear(input_size=13, output_size=13, seed=20190501),\n",
    "                 Sigmoid(),\n",
    "                 Linear(input_size=13, output_size=13, seed=20190501),\n",
    "                 Sigmoid(),\n",
    "                 Linear(input_size=13, output_size=1, seed=20190501)\n",
    "             ]),\n",
    "             loss=MSE(),\n",
    "             optimizer=SGD(learning_rate=0.01))"
   ]
  },
  {
   "cell_type": "code",
   "execution_count": 10,
   "id": "applied-producer",
   "metadata": {},
   "outputs": [
    {
     "name": "stdout",
     "output_type": "stream",
     "text": [
      "Epoch: 10 |  Train loss: 422.023 | Validation loss: 43.747\n",
      "Epoch: 20 |  Train loss: 238.444 | Validation loss: 25.572\n",
      "Epoch: 30 |  Train loss: 170.714 | Validation loss: 19.229\n",
      "Epoch: 40 |  Train loss: 137.217 | Validation loss: 15.871\n",
      "Epoch: 50 |  Train loss: 119.404 | Validation loss: 13.966\n"
     ]
    }
   ],
   "source": [
    "dl.fit(X_train=X_train, y_train=y_train,\n",
    "       X_test=X_test, y_test=y_test,\n",
    "       epochs=50,\n",
    "       eval_every=10,\n",
    "       seed=20190501)"
   ]
  },
  {
   "cell_type": "code",
   "execution_count": null,
   "id": "described-minnesota",
   "metadata": {},
   "outputs": [],
   "source": []
  }
 ],
 "metadata": {
  "kernelspec": {
   "display_name": "Python 3",
   "language": "python",
   "name": "python3"
  },
  "language_info": {
   "codemirror_mode": {
    "name": "ipython",
    "version": 3
   },
   "file_extension": ".py",
   "mimetype": "text/x-python",
   "name": "python",
   "nbconvert_exporter": "python",
   "pygments_lexer": "ipython3",
   "version": "3.8.8"
  }
 },
 "nbformat": 4,
 "nbformat_minor": 5
}
